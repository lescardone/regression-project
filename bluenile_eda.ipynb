{
 "cells": [
  {
   "cell_type": "code",
   "execution_count": 2,
   "id": "representative-contemporary",
   "metadata": {},
   "outputs": [],
   "source": [
    "import pandas as pd\n",
    "import numpy as np\n",
    "import matplotlib.pyplot as plt\n",
    "import seaborn as sns\n",
    "\n",
    "%matplotlib inline"
   ]
  },
  {
   "cell_type": "code",
   "execution_count": 6,
   "id": "exceptional-tutorial",
   "metadata": {},
   "outputs": [
    {
     "name": "stdout",
     "output_type": "stream",
     "text": [
      "(72231, 17)\n"
     ]
    },
    {
     "data": {
      "text/plain": [
       "count      72231\n",
       "unique     10183\n",
       "top       $2,423\n",
       "freq         430\n",
       "Name: Price, dtype: object"
      ]
     },
     "execution_count": 6,
     "metadata": {},
     "output_type": "execute_result"
    }
   ],
   "source": [
    "df = pd.read_csv('./data/bluenile_round_13k.csv')\n",
    "print(df.shape)\n",
    "df.Price.describe()"
   ]
  },
  {
   "cell_type": "code",
   "execution_count": 7,
   "id": "dutch-schema",
   "metadata": {},
   "outputs": [
    {
     "data": {
      "text/plain": [
       "Index(['Unnamed: 0', 'Shape', 'Price', 'Carat', 'Color', 'Clarity', 'Polish',\n",
       "       'Symmetry', 'Fluorescence', 'Depth', 'Table', 'L/W', 'Price/Ct',\n",
       "       'Culet', 'Stock No.', 'Delivery Date', 'Cut'],\n",
       "      dtype='object')"
      ]
     },
     "execution_count": 7,
     "metadata": {},
     "output_type": "execute_result"
    }
   ],
   "source": [
    "df.columns"
   ]
  },
  {
   "cell_type": "code",
   "execution_count": 9,
   "id": "cooperative-answer",
   "metadata": {},
   "outputs": [],
   "source": [
    "df.drop(['Unnamed: 0','Price/Ct','Stock No.','Delivery Date','Shape'],axis=1,inplace=True)"
   ]
  },
  {
   "cell_type": "code",
   "execution_count": 11,
   "id": "collect-discretion",
   "metadata": {},
   "outputs": [],
   "source": [
    "df['Carat Weight'] = df['Carat']\n",
    "df['Depth %'] = df['Depth']\n",
    "df['Table %'] = df['Table']\n",
    "df['Length to Width'] = df['L/W']\n",
    "df.drop(['Carat','Depth','Table','L/W'],axis=1,inplace=True)"
   ]
  },
  {
   "cell_type": "code",
   "execution_count": 16,
   "id": "distinct-grass",
   "metadata": {},
   "outputs": [
    {
     "data": {
      "text/html": [
       "<div>\n",
       "<style scoped>\n",
       "    .dataframe tbody tr th:only-of-type {\n",
       "        vertical-align: middle;\n",
       "    }\n",
       "\n",
       "    .dataframe tbody tr th {\n",
       "        vertical-align: top;\n",
       "    }\n",
       "\n",
       "    .dataframe thead th {\n",
       "        text-align: right;\n",
       "    }\n",
       "</style>\n",
       "<table border=\"1\" class=\"dataframe\">\n",
       "  <thead>\n",
       "    <tr style=\"text-align: right;\">\n",
       "      <th></th>\n",
       "      <th>Carat Weight</th>\n",
       "      <th>Color</th>\n",
       "      <th>Clarity</th>\n",
       "      <th>Cut</th>\n",
       "      <th>Depth %</th>\n",
       "      <th>Table %</th>\n",
       "      <th>Polish</th>\n",
       "      <th>Symmetry</th>\n",
       "      <th>Length to Width</th>\n",
       "      <th>Culet</th>\n",
       "      <th>Fluorescence</th>\n",
       "      <th>Price</th>\n",
       "    </tr>\n",
       "  </thead>\n",
       "  <tbody>\n",
       "    <tr>\n",
       "      <th>0</th>\n",
       "      <td>0.30</td>\n",
       "      <td>G</td>\n",
       "      <td>SI2</td>\n",
       "      <td>Ideal</td>\n",
       "      <td>62.3</td>\n",
       "      <td>56.0</td>\n",
       "      <td>Excellent</td>\n",
       "      <td>Excellent</td>\n",
       "      <td>1.00</td>\n",
       "      <td>None</td>\n",
       "      <td>None</td>\n",
       "      <td>$500</td>\n",
       "    </tr>\n",
       "    <tr>\n",
       "      <th>1</th>\n",
       "      <td>0.34</td>\n",
       "      <td>K</td>\n",
       "      <td>VVS1</td>\n",
       "      <td>Good</td>\n",
       "      <td>64.3</td>\n",
       "      <td>57.0</td>\n",
       "      <td>Good</td>\n",
       "      <td>Very Good</td>\n",
       "      <td>1.01</td>\n",
       "      <td>None</td>\n",
       "      <td>None</td>\n",
       "      <td>$500</td>\n",
       "    </tr>\n",
       "  </tbody>\n",
       "</table>\n",
       "</div>"
      ],
      "text/plain": [
       "   Carat Weight Color Clarity    Cut  Depth %  Table %     Polish   Symmetry  \\\n",
       "0          0.30     G     SI2  Ideal     62.3     56.0  Excellent  Excellent   \n",
       "1          0.34     K    VVS1   Good     64.3     57.0       Good  Very Good   \n",
       "\n",
       "   Length to Width Culet Fluorescence Price  \n",
       "0             1.00  None         None  $500  \n",
       "1             1.01  None         None  $500  "
      ]
     },
     "execution_count": 16,
     "metadata": {},
     "output_type": "execute_result"
    }
   ],
   "source": [
    "df = df[['Carat Weight','Color','Clarity','Cut','Depth %','Table %','Polish','Symmetry','Length to Width','Culet','Fluorescence','Price']]\n",
    "df.head(2)"
   ]
  },
  {
   "cell_type": "code",
   "execution_count": 17,
   "id": "interior-springfield",
   "metadata": {},
   "outputs": [
    {
     "name": "stdout",
     "output_type": "stream",
     "text": [
      "<class 'pandas.core.frame.DataFrame'>\n",
      "RangeIndex: 72231 entries, 0 to 72230\n",
      "Data columns (total 12 columns):\n",
      " #   Column           Non-Null Count  Dtype  \n",
      "---  ------           --------------  -----  \n",
      " 0   Carat Weight     72231 non-null  float64\n",
      " 1   Color            72231 non-null  object \n",
      " 2   Clarity          72231 non-null  object \n",
      " 3   Cut              72231 non-null  object \n",
      " 4   Depth %          72231 non-null  float64\n",
      " 5   Table %          72231 non-null  float64\n",
      " 6   Polish           72231 non-null  object \n",
      " 7   Symmetry         72231 non-null  object \n",
      " 8   Length to Width  72231 non-null  float64\n",
      " 9   Culet            72231 non-null  object \n",
      " 10  Fluorescence     72231 non-null  object \n",
      " 11  Price            72231 non-null  object \n",
      "dtypes: float64(4), object(8)\n",
      "memory usage: 6.6+ MB\n"
     ]
    }
   ],
   "source": [
    "df.info()"
   ]
  }
 ],
 "metadata": {
  "kernelspec": {
   "display_name": "Python [conda env:metis] *",
   "language": "python",
   "name": "conda-env-metis-py"
  },
  "language_info": {
   "codemirror_mode": {
    "name": "ipython",
    "version": 3
   },
   "file_extension": ".py",
   "mimetype": "text/x-python",
   "name": "python",
   "nbconvert_exporter": "python",
   "pygments_lexer": "ipython3",
   "version": "3.8.8"
  }
 },
 "nbformat": 4,
 "nbformat_minor": 5
}
