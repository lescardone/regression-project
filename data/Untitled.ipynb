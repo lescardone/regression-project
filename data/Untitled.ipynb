{
 "cells": [
  {
   "cell_type": "code",
   "execution_count": null,
   "id": "growing-species",
   "metadata": {},
   "outputs": [],
   "source": [
    "original_data = []\n",
    "for column in X.columns:\n",
    "    skew = stats.skew(X[column])\n",
    "    original_data.append(skew)\n",
    "\n",
    "list(zip(X.columns,original_data))"
   ]
  }
 ],
 "metadata": {
  "kernelspec": {
   "display_name": "Python [conda env:metis] *",
   "language": "python",
   "name": "conda-env-metis-py"
  },
  "language_info": {
   "codemirror_mode": {
    "name": "ipython",
    "version": 3
   },
   "file_extension": ".py",
   "mimetype": "text/x-python",
   "name": "python",
   "nbconvert_exporter": "python",
   "pygments_lexer": "ipython3",
   "version": "3.8.8"
  }
 },
 "nbformat": 4,
 "nbformat_minor": 5
}
